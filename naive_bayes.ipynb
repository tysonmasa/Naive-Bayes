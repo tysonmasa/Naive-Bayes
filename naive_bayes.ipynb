{
  "nbformat": 4,
  "nbformat_minor": 0,
  "metadata": {
    "colab": {
      "provenance": [],
      "authorship_tag": "ABX9TyODgqMB6C1eOi2oPA2W33Q7",
      "include_colab_link": true
    },
    "kernelspec": {
      "name": "python3",
      "display_name": "Python 3"
    },
    "language_info": {
      "name": "python"
    }
  },
  "cells": [
    {
      "cell_type": "markdown",
      "metadata": {
        "id": "view-in-github",
        "colab_type": "text"
      },
      "source": [
        "<a href=\"https://colab.research.google.com/github/tysonmasa/Naive-Bayes/blob/main/naive_bayes.ipynb\" target=\"_parent\"><img src=\"https://colab.research.google.com/assets/colab-badge.svg\" alt=\"Open In Colab\"/></a>"
      ]
    },
    {
      "cell_type": "code",
      "execution_count": null,
      "metadata": {
        "id": "jX_iwGuZ_7DQ",
        "colab": {
          "base_uri": "https://localhost:8080/"
        },
        "collapsed": true,
        "outputId": "a1daf8c5-2a61-4efd-b949-f71005a49029"
      },
      "outputs": [
        {
          "output_type": "stream",
          "name": "stderr",
          "text": [
            "[nltk_data] Downloading package punkt to /root/nltk_data...\n",
            "[nltk_data]   Package punkt is already up-to-date!\n",
            "[nltk_data] Downloading package stopwords to /root/nltk_data...\n",
            "[nltk_data]   Package stopwords is already up-to-date!\n",
            "[nltk_data] Downloading package wordnet to /root/nltk_data...\n",
            "[nltk_data]   Package wordnet is already up-to-date!\n",
            "<ipython-input-100-9173b7c8286d>:33: SettingWithCopyWarning: \n",
            "A value is trying to be set on a copy of a slice from a DataFrame.\n",
            "Try using .loc[row_indexer,col_indexer] = value instead\n",
            "\n",
            "See the caveats in the documentation: https://pandas.pydata.org/pandas-docs/stable/user_guide/indexing.html#returning-a-view-versus-a-copy\n",
            "  df_sents[column] = df_sents[column].apply(preprocess_text)\n"
          ]
        }
      ],
      "source": [
        "#preprocess data\n",
        "\n",
        "import pandas as pd\n",
        "\n",
        "df = pd.read_csv(\"data.csv\")\n",
        "df_sents = df.iloc[:, 1::2] #just get sentences\n",
        "\n",
        "df_test = df_sents.iloc[-10:]  # Last 10 rows for testing\n",
        "import nltk\n",
        "import re\n",
        "from nltk.tokenize import word_tokenize, sent_tokenize\n",
        "from nltk.corpus import stopwords\n",
        "from nltk.stem import WordNetLemmatizer\n",
        "\n",
        "nltk.download(\"punkt\")\n",
        "nltk.download(\"stopwords\")\n",
        "nltk.download(\"wordnet\")\n",
        "\n",
        "text_columns = [\"Sadness Sentences\", \"Joy Sentences\", \"Fear Sentences\", \"Anger Sentences\", \"Surprise Sentence\", \"Disgust Sentences\", \"Sadness + Joy Sentences\", \"Fear + Anger Sentences\", \"Surprise + Disgust Sentences\", \"Sadness + Joy + Fear Sentences\"]\n",
        "stop_words = set(stopwords.words(\"english\"))\n",
        "lemmatizer = WordNetLemmatizer()\n",
        "def preprocess_text(text):\n",
        "    if pd.isna(text):\n",
        "        return \"\"\n",
        "    text = text.lower()  # Convert to lowercase\n",
        "    text = re.sub(r\"[^a-zA-Z0-9\\s]\", \"\", text)  # Remove special characters\n",
        "    tokens = word_tokenize(text)  # Tokenization\n",
        "    tokens = [word for word in tokens if word not in stop_words]  # Remove stopwords\n",
        "    lemmatized = [lemmatizer.lemmatize(word) for word in tokens]  # Lemmatization\n",
        "    return lemmatized\n",
        "\n",
        "for column in text_columns:\n",
        "    df_sents[column] = df_sents[column].apply(preprocess_text)\n",
        "\n",
        "#split up data\n",
        "\n",
        "df_train = df_sents.iloc[:30]  # First 30 rows for training\n",
        "df_val = df_sents.iloc[30:40]  # Next 10 rows for validation\n"
      ]
    },
    {
      "cell_type": "code",
      "source": [
        "display(df_train.iloc[0])"
      ],
      "metadata": {
        "colab": {
          "base_uri": "https://localhost:8080/"
        },
        "id": "KQrcaoiplglM",
        "outputId": "98597e67-b0ed-4f97-823b-24166a6f7ae6"
      },
      "execution_count": null,
      "outputs": [
        {
          "output_type": "stream",
          "name": "stdout",
          "text": [
            "Sadness Sentences                 [devastating, news, child, abduction, left, so...\n",
            "Joy Sentences                     [sunny, summer, morning, laughter, child, coul...\n",
            "Fear Sentences                    [walked, dead, night, could, hear, sudden, foo...\n",
            "Anger Sentences                   [driving, family, restaurant, car, recklessly,...\n",
            "Surprise Sentence                 [startled, unexpectedly, everyone, sprang, hid...\n",
            "Disgust Sentences                 [forgotten, take, trash, leaving, holiday, ret...\n",
            "Sadness + Joy Sentences           [visited, old, childhood, home, felt, wave, bi...\n",
            "Fear + Anger Sentences            [tom, fearful, bully, remained, docile, picked...\n",
            "Surprise + Disgust Sentences      [opened, package, food, delivery, shocked, see...\n",
            "Sadness + Joy + Fear Sentences    [parent, watched, son, leave, college, proud, ...\n",
            "Name: 0, dtype: object\n"
          ]
        }
      ]
    },
    {
      "cell_type": "code",
      "source": [
        "# Calculate prior probs\n",
        "\n",
        "total_examples = df_train.size + df_train[\"Sadness + Joy Sentences\"].count() + df_train[\"Fear + Anger Sentences\"].count() + df_train[\"Surprise + Disgust Sentences\"].count() + df_train[\"Sadness + Joy + Fear Sentences\"].count() + df_train[\"Sadness + Joy + Fear Sentences\"].count()\n",
        "print(total_examples)\n",
        "\n",
        "#sadness:\n",
        "sadcnt = df_train[\"Sadness Sentences\"].count() + df_train[\"Sadness + Joy Sentences\"].count() + df_train[\"Sadness + Joy + Fear Sentences\"].count()\n",
        "print(sadcnt)\n",
        "prior_sadness = sadcnt / total_examples\n",
        "print(prior_sadness)\n",
        "#joy:\n",
        "joycnt = df_train[\"Joy Sentences\"].count() + df_train[\"Sadness + Joy Sentences\"].count() + df_train[\"Sadness + Joy + Fear Sentences\"].count()\n",
        "print(joycnt)\n",
        "prior_joy = joycnt / total_examples\n",
        "print(prior_joy)\n",
        "#fear:\n",
        "fearcnt = df_train[\"Fear Sentences\"].count() + df_train[\"Fear + Anger Sentences\"].count() + df_train[\"Sadness + Joy + Fear Sentences\"].count()\n",
        "print(fearcnt)\n",
        "prior_fear = fearcnt / total_examples\n",
        "print(prior_fear)\n",
        "#anger:\n",
        "angercnt = df_train[\"Anger Sentences\"].count() + df_train[\"Fear + Anger Sentences\"].count()\n",
        "print(angercnt)\n",
        "prior_anger = angercnt / total_examples\n",
        "print(prior_anger)\n",
        "#surprise:\n",
        "surprisecnt = df_train[\"Surprise Sentence\"].count() + df_train[\"Surprise + Disgust Sentences\"].count()\n",
        "print(surprisecnt)\n",
        "prior_surprise = surprisecnt / total_examples\n",
        "print(prior_surprise)\n",
        "#disgust:\n",
        "disgustcnt = df_train[\"Disgust Sentences\"].count() + df_train[\"Surprise + Disgust Sentences\"].count()\n",
        "print(disgustcnt)\n",
        "prior_disgust = disgustcnt / total_examples\n",
        "print(prior_disgust)\n",
        "\n",
        "prior_probs = {\"Sadness Sentences\": prior_sadness, \"Joy Sentences\": prior_joy, \"Fear Sentences\": prior_fear, \"Anger Sentences\": prior_anger, \"Surprise Sentence\": prior_surprise, \"Disgust Sentences\": prior_disgust}"
      ],
      "metadata": {
        "colab": {
          "base_uri": "https://localhost:8080/"
        },
        "collapsed": true,
        "id": "knPVEWMameTO",
        "outputId": "2c6d036c-857d-4ab8-ee7e-1cf482a08e16"
      },
      "execution_count": null,
      "outputs": [
        {
          "output_type": "stream",
          "name": "stdout",
          "text": [
            "450\n",
            "90\n",
            "0.2\n",
            "90\n",
            "0.2\n",
            "90\n",
            "0.2\n",
            "60\n",
            "0.13333333333333333\n",
            "60\n",
            "0.13333333333333333\n",
            "60\n",
            "0.13333333333333333\n"
          ]
        }
      ]
    },
    {
      "cell_type": "code",
      "source": [
        "#calculate likelihoods of words given emotion category w/ laplace smoothing\n",
        "#run all previous cells first\n",
        "\n",
        "from collections import Counter\n",
        "\n",
        "smooth = 1\n",
        "\n",
        "word_counts = {}  # Store word counts per category\n",
        "total_words = {}  # Store total word count per category\n",
        "vocabulary = set()  # Global vocabulary set\n",
        "\n",
        "#clac sadness:\n",
        "all_words = []\n",
        "for series in [df_train[\"Sadness Sentences\"], df_train['Sadness + Joy Sentences'], df_train['Sadness + Joy + Fear Sentences']]:\n",
        "    for item in series:\n",
        "        if isinstance(item, list):  # Check if the item is a list\n",
        "            all_words.extend(item)  # Extend the all_words list\n",
        "word_counts[\"Sadness Sentences\"] = Counter(all_words)\n",
        "total_words[\"Sadness Sentences\"] = sum(word_counts[\"Sadness Sentences\"].values())\n",
        "vocabulary.update(all_words)\n",
        "\n",
        "#calc joy\n",
        "all_words = []\n",
        "for series in [df_train[\"Joy Sentences\"], df_train['Sadness + Joy Sentences'], df_train['Sadness + Joy + Fear Sentences']]:\n",
        "    for item in series:\n",
        "        if isinstance(item, list):  # Check if the item is a list\n",
        "            all_words.extend(item)\n",
        "word_counts[\"Joy Sentences\"] = Counter(all_words)\n",
        "total_words[\"Joy Sentences\"] = sum(word_counts[\"Joy Sentences\"].values())\n",
        "vocabulary.update(all_words)\n",
        "\n",
        "#calc fear\n",
        "all_words = []\n",
        "for series in [df_train[\"Fear Sentences\"], df_train['Fear + Anger Sentences'], df_train['Sadness + Joy + Fear Sentences']]:\n",
        "    for item in series:\n",
        "        if isinstance(item, list):  # Check if the item is a list\n",
        "            all_words.extend(item)\n",
        "word_counts[\"Fear Sentences\"] = Counter(all_words)\n",
        "total_words[\"Fear Sentences\"] = sum(word_counts[\"Fear Sentences\"].values())\n",
        "vocabulary.update(all_words)\n",
        "\n",
        "#calc anger\n",
        "all_words = []\n",
        "for series in [df_train[\"Anger Sentences\"], df_train['Fear + Anger Sentences']]:\n",
        "    for item in series:\n",
        "        if isinstance(item, list):  # Check if the item is a list\n",
        "            all_words.extend(item)\n",
        "word_counts[\"Anger Sentences\"] = Counter(all_words)\n",
        "total_words[\"Anger Sentences\"] = sum(word_counts[\"Anger Sentences\"].values())\n",
        "vocabulary.update(all_words)\n",
        "\n",
        "#calc surprise\n",
        "all_words = []\n",
        "for series in [df_train[\"Surprise Sentence\"], df_train['Surprise + Disgust Sentences']]:\n",
        "    for item in series:\n",
        "        if isinstance(item, list):  # Check if the item is a list\n",
        "            all_words.extend(item)\n",
        "word_counts[\"Surprise Sentence\"] = Counter(all_words)\n",
        "total_words[\"Surprise Sentence\"] = sum(word_counts[\"Surprise Sentence\"].values())\n",
        "vocabulary.update(all_words)\n",
        "\n",
        "#calc disgust\n",
        "all_words = []\n",
        "for series in [df_train[\"Disgust Sentences\"], df_train['Surprise + Disgust Sentences']]:\n",
        "    for item in series:\n",
        "        if isinstance(item, list):  # Check if the item is a list\n",
        "            all_words.extend(item)\n",
        "word_counts[\"Disgust Sentences\"] = Counter(all_words)\n",
        "total_words[\"Disgust Sentences\"] = sum(word_counts[\"Disgust Sentences\"].values())\n",
        "vocabulary.update(all_words)\n",
        "\n",
        "\n",
        "#compute likelihoods\n",
        "\n",
        "V = len(vocabulary)  # Size of the vocabulary\n",
        "likelihoods = {}\n",
        "\n",
        "categories = [\"Sadness Sentences\", \"Joy Sentences\", \"Fear Sentences\", \"Anger Sentences\", \"Surprise Sentence\", \"Disgust Sentences\"]\n",
        "\n",
        "for col in categories:\n",
        "    likelihoods[col] = {}\n",
        "    for word in vocabulary:\n",
        "        likelihoods[col][word] = (word_counts[col][word] + smooth) / (total_words[col] + smooth * V)\n",
        "\n",
        "likelihoods_df = pd.DataFrame(likelihoods)\n",
        "\n",
        "print(likelihoods_df)\n"
      ],
      "metadata": {
        "colab": {
          "base_uri": "https://localhost:8080/"
        },
        "collapsed": true,
        "id": "Dbysg3JpHD3J",
        "outputId": "9b1a6ecd-4a83-4a8a-a0f4-10c380746f61"
      },
      "execution_count": null,
      "outputs": [
        {
          "output_type": "stream",
          "name": "stdout",
          "text": [
            "            Sadness Sentences  Joy Sentences  Fear Sentences  Anger Sentences  \\\n",
            "cowardly             0.000317       0.000311        0.000314         0.000375   \n",
            "memory               0.002533       0.002489        0.001571         0.000750   \n",
            "unbearable           0.000317       0.000311        0.000314         0.000375   \n",
            "nyc                  0.000317       0.000311        0.000314         0.000375   \n",
            "nauseated            0.000317       0.000311        0.000314         0.000375   \n",
            "...                       ...            ...             ...              ...   \n",
            "barking              0.000317       0.000311        0.000314         0.000750   \n",
            "unable               0.000633       0.000622        0.000629         0.000750   \n",
            "became               0.000633       0.000622        0.000629         0.000750   \n",
            "townsfolk            0.000317       0.000311        0.000629         0.000375   \n",
            "admitted             0.000633       0.000622        0.000629         0.000375   \n",
            "\n",
            "            Surprise Sentence  Disgust Sentences  \n",
            "cowardly             0.000384           0.000767  \n",
            "memory               0.000384           0.000384  \n",
            "unbearable           0.000384           0.000767  \n",
            "nyc                  0.000769           0.000767  \n",
            "nauseated            0.000384           0.000767  \n",
            "...                       ...                ...  \n",
            "barking              0.000384           0.000384  \n",
            "unable               0.000384           0.000384  \n",
            "became               0.000384           0.001151  \n",
            "townsfolk            0.000384           0.000384  \n",
            "admitted             0.000769           0.000384  \n",
            "\n",
            "[1972 rows x 6 columns]\n"
          ]
        }
      ]
    },
    {
      "cell_type": "code",
      "source": [
        "# emotion prediction function\n",
        "\n",
        "import numpy as np\n",
        "\n",
        "likelihoods = likelihoods_df.to_dict()\n",
        "\n",
        "def predict_emotion(text):\n",
        "  words = text.lower().split()\n",
        "  category_scores = {}\n",
        "\n",
        "  for category in likelihoods.keys():\n",
        "        log_prob = np.log(prior_probs[category])  #log prior probability\n",
        "\n",
        "        # Only sum log probabilities of words that exist in the vocabulary\n",
        "        for word in words:\n",
        "            if word in likelihoods[category]:  # Ignore unknown words\n",
        "                log_prob += np.log(likelihoods[category][word])\n",
        "\n",
        "        category_scores[category] = log_prob  # Store final score for category\n",
        "\n",
        "  print(category_scores)\n",
        "\n",
        "  # Return category with the highest log probability\n",
        "  return max(category_scores, key=category_scores.get)\n",
        "\n",
        "\n",
        "\n"
      ],
      "metadata": {
        "id": "1Ny8NBEUTfHp"
      },
      "execution_count": null,
      "outputs": []
    },
    {
      "cell_type": "code",
      "source": [
        "# use the function to predict the text\n",
        "# run this after all the previous cells\n",
        "\n",
        "test_text = \"As she hugged her daughter goodbye on the first day of college, she felt both sad to see her go and joyful knowing that she was embarking on a new and exciting chapter in her life.\"\n",
        "\n",
        "test_emotion = predict_emotion(test_text)\n",
        "print(f\"The predicted emotion is: {test_emotion}\")\n"
      ],
      "metadata": {
        "colab": {
          "base_uri": "https://localhost:8080/"
        },
        "id": "Z-5u3LWSiEfZ",
        "outputId": "c6fcc197-d4fa-422a-a5bb-2cc9e45d8c41"
      },
      "execution_count": null,
      "outputs": [
        {
          "output_type": "stream",
          "name": "stdout",
          "text": [
            "{'Sadness Sentences': -62.41363601671402, 'Joy Sentences': -63.07898807492788, 'Fear Sentences': -64.50405827129322, 'Anger Sentences': -68.33453145673768, 'Surprise Sentence': -67.48944704303209, 'Disgust Sentences': -68.37423204086207}\n",
            "The predicted emotion is: Sadness Sentences\n"
          ]
        }
      ]
    },
    {
      "cell_type": "code",
      "source": [
        "# evaluation ; not complete :(\n",
        "\n",
        "import seaborn as sns\n",
        "import matplotlib.pyplot as plt\n",
        "from sklearn.metrics import confusion_matrix, classification_report\n",
        "\n",
        "\n",
        "df_test[\"actual_category\"] = df_test.apply(lambda row: next(col for col in categories if row[col]), axis=1)\n",
        "df_test[\"predicted_category\"] = df_test.apply(lambda row: predict_emotion(row[row[\"actual_category\"]]), axis=1)\n",
        "#This line now passes just the text string to the predict_emotion function, after ensuring it's a string\n",
        "\n",
        "# Compute confusion matrix\n",
        "conf_matrix = confusion_matrix(df_test[\"actual_category\"], df_test[\"predicted_category\"], labels=categories)\n",
        "\n",
        "# Plot the confusion matrix\n",
        "plt.figure(figsize=(8, 6))\n",
        "sns.heatmap(conf_matrix, annot=True, fmt=\"d\", cmap=\"Blues\", xticklabels=categories, yticklabels=categories)\n",
        "plt.xlabel(\"Predicted Label\")\n",
        "plt.ylabel(\"Actual Label\")\n",
        "plt.title(\"Confusion Matrix\")\n",
        "plt.show()\n",
        "\n",
        "# Print classification report\n",
        "print(\"Classification Report:\\n\", classification_report(df_test[\"actual_category\"], df_test[\"predicted_category\"]))"
      ],
      "metadata": {
        "colab": {
          "base_uri": "https://localhost:8080/",
          "height": 1000
        },
        "id": "-IvH9_AykMlh",
        "outputId": "ec06564e-2c0f-4359-e0ec-ad1640e06009"
      },
      "execution_count": null,
      "outputs": [
        {
          "output_type": "stream",
          "name": "stdout",
          "text": [
            "{'Sadness Sentences': -81.58538130171561, 'Joy Sentences': -82.87734445668431, 'Fear Sentences': -83.0549568177391, 'Anger Sentences': -83.13187101779697, 'Surprise Sentence': -83.4398931252436, 'Disgust Sentences': -84.66499134416706}\n",
            "{'Sadness Sentences': -37.739025803152366, 'Joy Sentences': -39.78857106658516, 'Fear Sentences': -40.549469595802876, 'Anger Sentences': -41.460325055719835, 'Surprise Sentence': -41.333159347785525, 'Disgust Sentences': -39.95646744784632}\n",
            "{'Sadness Sentences': -53.33116604901899, 'Joy Sentences': -53.30005682956483, 'Fear Sentences': -53.016438367468695, 'Anger Sentences': -55.159052328111024, 'Surprise Sentence': -54.98102033700299, 'Disgust Sentences': -53.89585149398785}\n",
            "{'Sadness Sentences': -50.23007325980717, 'Joy Sentences': -52.53791677751793, 'Fear Sentences': -53.50194618325039, 'Anger Sentences': -54.348122111894696, 'Surprise Sentence': -54.57555522889483, 'Disgust Sentences': -53.20270431342791}\n",
            "{'Sadness Sentences': -43.88717749308351, 'Joy Sentences': -46.32339757193548, 'Fear Sentences': -46.53529326302077, 'Anger Sentences': -47.96311510163546, 'Surprise Sentence': -47.40505114400612, 'Disgust Sentences': -45.51945411253707}\n",
            "{'Sadness Sentences': -37.80356432428994, 'Joy Sentences': -38.114594633013496, 'Fear Sentences': -38.60355944674756, 'Anger Sentences': -39.66856558649178, 'Surprise Sentence': -39.25371780610568, 'Disgust Sentences': -38.34702953541223}\n",
            "{'Sadness Sentences': -50.70007688905291, 'Joy Sentences': -50.10138371201415, 'Fear Sentences': -53.21426411079861, 'Anger Sentences': -55.852199508670964, 'Surprise Sentence': -54.98102033700299, 'Disgust Sentences': -54.99446378265596}\n",
            "{'Sadness Sentences': -28.58271931966867, 'Joy Sentences': -29.633857978607878, 'Fear Sentences': -28.74653476862177, 'Anger Sentences': -32.878093468124376, 'Surprise Sentence': -31.677748613108815, 'Disgust Sentences': -32.09089569016153}\n",
            "{'Sadness Sentences': -33.84021469169645, 'Joy Sentences': -33.910524097623934, 'Fear Sentences': -29.881514701460755, 'Anger Sentences': -30.680868890788158, 'Surprise Sentence': -33.46950808233687, 'Disgust Sentences': -32.78404287072148}\n",
            "{'Sadness Sentences': -31.76077315001661, 'Joy Sentences': -32.52422973650404, 'Fear Sentences': -33.17735156746509, 'Anger Sentences': -32.878093468124376, 'Surprise Sentence': -32.776360901776926, 'Disgust Sentences': -33.477190051281426}\n"
          ]
        },
        {
          "output_type": "display_data",
          "data": {
            "text/plain": [
              "<Figure size 800x600 with 2 Axes>"
            ],
            "image/png": "[encoded data removed]"
          },
          "metadata": {}
        },
        {
          "output_type": "stream",
          "name": "stdout",
          "text": [
            "Classification Report:\n",
            "                    precision    recall  f1-score   support\n",
            "\n",
            "   Fear Sentences       0.00      0.00      0.00         0\n",
            "    Joy Sentences       0.00      0.00      0.00         0\n",
            "Sadness Sentences       1.00      0.70      0.82        10\n",
            "\n",
            "         accuracy                           0.70        10\n",
            "        macro avg       0.33      0.23      0.27        10\n",
            "     weighted avg       1.00      0.70      0.82        10\n",
            "\n"
          ]
        },
        {
          "output_type": "stream",
          "name": "stderr",
          "text": [
            "/usr/local/lib/python3.11/dist-packages/sklearn/metrics/_classification.py:1565: UndefinedMetricWarning: Recall is ill-defined and being set to 0.0 in labels with no true samples. Use `zero_division` parameter to control this behavior.\n",
            "  _warn_prf(average, modifier, f\"{metric.capitalize()} is\", len(result))\n",
            "/usr/local/lib/python3.11/dist-packages/sklearn/metrics/_classification.py:1565: UndefinedMetricWarning: Recall is ill-defined and being set to 0.0 in labels with no true samples. Use `zero_division` parameter to control this behavior.\n",
            "  _warn_prf(average, modifier, f\"{metric.capitalize()} is\", len(result))\n",
            "/usr/local/lib/python3.11/dist-packages/sklearn/metrics/_classification.py:1565: UndefinedMetricWarning: Recall is ill-defined and being set to 0.0 in labels with no true samples. Use `zero_division` parameter to control this behavior.\n",
            "  _warn_prf(average, modifier, f\"{metric.capitalize()} is\", len(result))\n"
          ]
        }
      ]
    }
  ]
}